{
  "cells": [
    {
      "cell_type": "markdown",
      "id": "eef90170",
      "metadata": {
        "id": "eef90170"
      },
      "source": [
        "![Airbnb](https://raw.githubusercontent.com/interviewquery/takehomes/airbnb_1/airbnb_1/logo.png)\n",
        "\n",
        "# TAKE-HOME CHALLENGE: Data Science - Analytics\n",
        "\n",
        "Airbnb is a two-sided marketplace that matches guests to hosts. The\n",
        "booking flow at Airbnb is as follows: a guest finds an available room\n",
        "(listing) that they like, and then they contact the host. Once the guest\n",
        "finds a listing they are interested in, there are three ways to send the\n",
        "host an inquiry: `contact_me`, `book_it`, or `instant_book` (detailed at\n",
        "the bottom of this document). Upon receiving the inquiry, the host can\n",
        "then decide whether or not to accept the request (for `contact_me` and\n",
        "`book_it` methods; `instant_book` is auto-accepted). One of our\n",
        "goals at Airbnb is to increase bookings on our platform.\n",
        "\n",
        "## Prompt\n",
        "\n",
        "You are the first data scientist to join a cross-functional Product and\n",
        "Operations team working to grow bookings in Rio de Janeiro. The team\n",
        "asks you for help with the following:\n",
        "\n",
        "1.  What key metrics would you propose to monitor over time the success\n",
        "    of the team's efforts in improving the guest host matching process\n",
        "    and why? Clearly define your metric(s) and explain how each is\n",
        "    computed.\n",
        "\n",
        "2.  What areas should we invest in to increase the number of successful\n",
        "    bookings in Rio de Janeiro? What segments are doing well and what\n",
        "    could be improved? ​ ​Propose 2-3 specific recommendations (business\n",
        "    initiatives and product changes) that could address these\n",
        "    opportunities. Demonstrate rationale behind each recommendation AND\n",
        "    prioritize your recommendations in order of their estimated impact.\n",
        "\n",
        "3.  There is also interest from executives at Airbnb in the work you\n",
        "    are doing, and a desire to understand the broader framing of the\n",
        "    challenge of matching supply and demand, thinking beyond the data\n",
        "    provided. What other research, experiments, or approaches could help\n",
        "    the company get more clarity on the problem?\n",
        "\n",
        "## Assignment\n",
        "S​ummarize your recommendations in response to the questions above in a Jupyter Notebook intended for\n",
        "the Head of Product and VP of Operations (who is not technical). Include\n",
        "an organized appendix sharing the details of your work conducted for the\n",
        "Rio team, that would be useful for the data team to understand your\n",
        "work.\n",
        "\n",
        "\n",
        "\n",
        "\n",
        "\n",
        "\n",
        "## Grading\n",
        "\n",
        "Your assignment will be judged according to:\n",
        "\n",
        "1.  The analytical approach and clarity of your graphs, tables,\n",
        "    visualizations,\n",
        "\n",
        "2.  The data decisions you made and reproducibility of the analysis,\n",
        "\n",
        "3.  Strength of recommendations, prioritizations, and rationale behind\n",
        "    those,\n",
        "\n",
        "4.  The narrative of your presentation and ability to effectively\n",
        "    communicate to non-technical executives, 5) How well you followed\n",
        "    the directions.\n",
        "\n",
        "## Data Provided\n",
        "\n",
        "### `contacts.csv`​​\n",
        "Contains a row for every time that a user makes an\n",
        "inquiry for a stay at a listing in Rio de Janeiro.\n",
        "\n",
        "-   `id_guest_anon` -​ id of the guest making the inquiry.\n",
        "\n",
        "-   `id_host_anon` -​ id of the host of the listing to which the inquiry is\n",
        "    made.\n",
        "\n",
        "-   `id_listing_anon` -​ id of the listing to which the inquiry is made.\n",
        "\n",
        "-   `ts_interaction_first` -​ UTC timestamp of the moment the inquiry is\n",
        "    made.\n",
        "\n",
        "-   `ts_reply_at_first` -​ UTC timestamp of the moment the host replies to\n",
        "    the inquiry, if so.\n",
        "- `ts_accepted_at_first` - UTC timestamp of the\n",
        "    moment the host accepts the inquiry, if so.​\n",
        "    \n",
        "-    `ts_booking_at` - UTC\n",
        "    timestamp of the moment the booking is made, if so.\n",
        "\n",
        "-   `ds_checkin_first` -​ Date stamp of the check-in date of the inquiry.\n",
        "\n",
        "-   `ds_checkout_first` ​- Date stamp of the check-out date of the inquiry.\n",
        "\n",
        "-   `m_guests` ​- The number of guests the inquiry is for.\n",
        "\n",
        "-   `m_interactions` -​ The total number of messages sent by both the guest\n",
        "    and host.\n",
        "\n",
        "-   `m_first_message_length_in_characters` -​ Number of characters in the\n",
        "    first message sent by the guest, if a message was sent\n",
        "\n",
        "-   `contact_channel_first` -​ The contact channel through which the\n",
        "    inquiry was made. One of {contact_me, book_it, instant_book}. \\*See\n",
        "    bottom of page for more detail\\*\n",
        "\n",
        "-   `guest_user_stage_first` ​- Indicates whether the user has made a\n",
        "    booking before sending the inquiry (\"past booker\"). If the user has\n",
        "    not booked before, then the user is a new user.\n",
        "\n",
        "### `listings.csv`\n",
        "Contains data for every listing in the market\n",
        "\n",
        "-   `id_listing_anon` ​- anonymized id of the listing\n",
        "\n",
        "-   `room_type` -​ indicates whether the room is an entire home, private\n",
        "    room, or shared room\n",
        "\n",
        "-   `listing_neighborhood` -​ the neighborhood of the listing\n",
        "\n",
        "-   `total_reviews` -​ the total number of reviews of the listing (at the\n",
        "    time the data was pulled).\n",
        "\n",
        "### Users\n",
        "Contains data for every user\n",
        "\n",
        "-   `id_user_anon` ​- anonymized id of user\n",
        "\n",
        "-   `words_in_user_profile` - the number of words in the \"about me\"\n",
        "    section of the user's Airbnb profile (at the time of contact)\n",
        "\n",
        "-   `country` -​ origin country of the user\n",
        "\n",
        "## Further Information\n",
        "\n",
        "There are three ways to book a listing on Airbnb:\n",
        "\n",
        "1)  `contact_me` -​ The guests writes a message to the host to inquire\n",
        "    about the listing. The host has the option to 1) pre-​approve the\n",
        "    guest to book their place, or 2) they can reject, or 3) they can\n",
        "    write a free text message with no explicit acceptance or rejection.\n",
        "    If the host pre-​approves, the guest can then go ahead and click to\n",
        "    make the booking (but is not obligated to).\n",
        "\n",
        "2)  `book_it` ​- The guest puts money down to book the place directly,\n",
        "    but the host has to accept the reservation request. If the host\n",
        "    accepts, the booking happens automatically. If you have used Airbnb\n",
        "    before, this shows up as a button labeled \"Request to book\".\n",
        "\n",
        "3)  `instant_book`​ -​ The guest books the listing directly, without any\n",
        "    need for the host to accept or reject actively (it is auto​-accepted\n",
        "    by the host). This shows up as a button labeled \"Book\".\n",
        "\n",
        "### Note​\n",
        "A host can opt-in to the `instant_book` feature. If a host\n",
        "does so, a guest can use the `contact_me` or `instant_book` channels\n",
        "for booking that particular listing, but cannot use the `book_it`\n",
        "functionality. Alternatively, if a host does not opt in, a guest can use\n",
        "the `contact_me` or `book_it` channels only. We suggest that you\n",
        "browse the Airbnb website and look at listings to see the different ways\n",
        "that you can message a host.\n"
      ]
    },
    {
      "cell_type": "code",
      "execution_count": 1,
      "id": "cd210ece",
      "metadata": {
        "id": "cd210ece",
        "outputId": "bed373db-edc3-491c-897b-2f9da5b61702",
        "colab": {
          "base_uri": "https://localhost:8080/"
        }
      },
      "outputs": [
        {
          "output_type": "stream",
          "name": "stdout",
          "text": [
            "Cloning into 'takehomes'...\n",
            "remote: Enumerating objects: 1968, done.\u001b[K\n",
            "remote: Counting objects: 100% (1968/1968), done.\u001b[K\n",
            "remote: Compressing objects: 100% (1222/1222), done.\u001b[K\n",
            "remote: Total 1968 (delta 755), reused 1933 (delta 729), pack-reused 0 (from 0)\u001b[K\n",
            "Receiving objects: 100% (1968/1968), 299.41 MiB | 17.46 MiB/s, done.\n",
            "Resolving deltas: 100% (755/755), done.\n",
            "/content/takehomes/airbnb_1\n",
            "contacts.csv  file.json  listings.csv  logo.png  takehomefile.ipynb  users.csv\n"
          ]
        }
      ],
      "source": [
        "!git clone --branch airbnb_1 https://github.com/interviewquery/takehomes.git\n",
        "%cd takehomes/airbnb_1\n",
        "!ls"
      ]
    },
    {
      "cell_type": "code",
      "execution_count": 70,
      "id": "59ecda69",
      "metadata": {
        "id": "59ecda69"
      },
      "outputs": [],
      "source": [
        "import pandas as pd\n",
        "import numpy as np\n",
        "import matplotlib.pyplot as plt\n",
        "import seaborn as sns"
      ]
    },
    {
      "cell_type": "code",
      "source": [
        "contacts = pd.read_csv('contacts.csv')\n",
        "print(contacts.head())\n",
        "contacts.info()\n",
        "contacts.isna().sum().sort_values(ascending=False)\n"
      ],
      "metadata": {
        "id": "5A0B06K18Abi",
        "outputId": "47bdbdbb-30e2-4ae9-ca1d-88d81da82083",
        "colab": {
          "base_uri": "https://localhost:8080/",
          "height": 1000
        }
      },
      "id": "5A0B06K18Abi",
      "execution_count": 81,
      "outputs": [
        {
          "output_type": "stream",
          "name": "stdout",
          "text": [
            "                          id_guest_anon                          id_host_anon  \\\n",
            "0  da8656a1-51af-4f38-b1c4-94be1f585157  5426897d-960d-4013-9e38-606ae746793c   \n",
            "1  8590d6f1-8bc9-4e8b-bdfb-de78f69fcf37  f30417c5-6df4-45ac-bfc2-6ad1cce398ab   \n",
            "2  ebcd83ba-bda1-47eb-9680-2dd04ccf3988  13cbf50a-3272-45d4-9866-a06b6ea1b99a   \n",
            "3  b0af8848-fe2a-4ef1-991e-26ab3066feb3  01614601-d5a4-4776-ab9b-c10d3b865bf0   \n",
            "4  5ddbbcc3-ac1a-4d8a-b6f8-0f675b76d1b2  f2fed6f3-4c5c-453d-9e64-37c62b8bd06d   \n",
            "\n",
            "                        id_listing_anon   ts_interaction_first  \\\n",
            "0  a408a8b2-0d44-4513-a611-3736d0409bb2    2016-04-21 02:55:53   \n",
            "1  e387c705-0aeb-464c-9375-ece63be6f006    2016-02-16 22:14:01   \n",
            "2  d1eb1960-938f-4305-a353-51e224414dd4    2016-01-27 23:33:38   \n",
            "3  855f6779-346c-45fc-a64b-ea133250ca7a    2016-05-05 14:42:52   \n",
            "4  f2928a59-c5e7-42b2-9c37-240a40f38dc0  2016-06-23 03:09:25.0   \n",
            "\n",
            "       ts_reply_at_first   ts_accepted_at_first          ts_booking_at  \\\n",
            "0  2016-04-21 03:15:00.0  2016-04-21 03:15:00.0  2016-04-21 03:15:00.0   \n",
            "1  2016-02-16 23:37:36.0                    NaN                    NaN   \n",
            "2  2016-01-28 02:12:47.0                    NaN                    NaN   \n",
            "3  2016-05-05 15:17:40.0  2016-05-05 15:17:40.0                    NaN   \n",
            "4  2016-06-23 03:09:26.0  2016-06-23 03:09:33.0  2016-06-23 03:09:33.0   \n",
            "\n",
            "  ds_checkin_first ds_checkout_first  m_guests  m_interactions  \\\n",
            "0       2016-08-02        2016-08-06       4.0              30   \n",
            "1       2016-08-11        2016-08-22       5.0               2   \n",
            "2       2016-03-14        2016-03-23       1.0               3   \n",
            "3       2016-05-27        2016-05-29       2.0               3   \n",
            "4       2016-08-19        2016-08-21       3.0              25   \n",
            "\n",
            "   m_first_message_length_in_characters contact_channel_first  \\\n",
            "0                                  31.0               book_it   \n",
            "1                                 312.0            contact_me   \n",
            "2                                 164.0            contact_me   \n",
            "3                                 203.0            contact_me   \n",
            "4                                   0.0          instant_book   \n",
            "\n",
            "  guest_user_stage_first  \n",
            "0            past_booker  \n",
            "1            past_booker  \n",
            "2                    new  \n",
            "3                    new  \n",
            "4            past_booker  \n",
            "<class 'pandas.core.frame.DataFrame'>\n",
            "RangeIndex: 27887 entries, 0 to 27886\n",
            "Data columns (total 14 columns):\n",
            " #   Column                                Non-Null Count  Dtype  \n",
            "---  ------                                --------------  -----  \n",
            " 0   id_guest_anon                         27887 non-null  object \n",
            " 1   id_host_anon                          27887 non-null  object \n",
            " 2   id_listing_anon                       27887 non-null  object \n",
            " 3   ts_interaction_first                  27887 non-null  object \n",
            " 4   ts_reply_at_first                     25855 non-null  object \n",
            " 5   ts_accepted_at_first                  16415 non-null  object \n",
            " 6   ts_booking_at                         11587 non-null  object \n",
            " 7   ds_checkin_first                      27887 non-null  object \n",
            " 8   ds_checkout_first                     27887 non-null  object \n",
            " 9   m_guests                              27886 non-null  float64\n",
            " 10  m_interactions                        27887 non-null  int64  \n",
            " 11  m_first_message_length_in_characters  27887 non-null  float64\n",
            " 12  contact_channel_first                 27887 non-null  object \n",
            " 13  guest_user_stage_first                27887 non-null  object \n",
            "dtypes: float64(2), int64(1), object(11)\n",
            "memory usage: 3.0+ MB\n"
          ]
        },
        {
          "output_type": "execute_result",
          "data": {
            "text/plain": [
              "ts_booking_at                           16300\n",
              "ts_accepted_at_first                    11472\n",
              "ts_reply_at_first                        2032\n",
              "m_guests                                    1\n",
              "id_host_anon                                0\n",
              "id_guest_anon                               0\n",
              "id_listing_anon                             0\n",
              "ts_interaction_first                        0\n",
              "ds_checkin_first                            0\n",
              "ds_checkout_first                           0\n",
              "m_interactions                              0\n",
              "m_first_message_length_in_characters        0\n",
              "contact_channel_first                       0\n",
              "guest_user_stage_first                      0\n",
              "dtype: int64"
            ],
            "text/html": [
              "<div>\n",
              "<style scoped>\n",
              "    .dataframe tbody tr th:only-of-type {\n",
              "        vertical-align: middle;\n",
              "    }\n",
              "\n",
              "    .dataframe tbody tr th {\n",
              "        vertical-align: top;\n",
              "    }\n",
              "\n",
              "    .dataframe thead th {\n",
              "        text-align: right;\n",
              "    }\n",
              "</style>\n",
              "<table border=\"1\" class=\"dataframe\">\n",
              "  <thead>\n",
              "    <tr style=\"text-align: right;\">\n",
              "      <th></th>\n",
              "      <th>0</th>\n",
              "    </tr>\n",
              "  </thead>\n",
              "  <tbody>\n",
              "    <tr>\n",
              "      <th>ts_booking_at</th>\n",
              "      <td>16300</td>\n",
              "    </tr>\n",
              "    <tr>\n",
              "      <th>ts_accepted_at_first</th>\n",
              "      <td>11472</td>\n",
              "    </tr>\n",
              "    <tr>\n",
              "      <th>ts_reply_at_first</th>\n",
              "      <td>2032</td>\n",
              "    </tr>\n",
              "    <tr>\n",
              "      <th>m_guests</th>\n",
              "      <td>1</td>\n",
              "    </tr>\n",
              "    <tr>\n",
              "      <th>id_host_anon</th>\n",
              "      <td>0</td>\n",
              "    </tr>\n",
              "    <tr>\n",
              "      <th>id_guest_anon</th>\n",
              "      <td>0</td>\n",
              "    </tr>\n",
              "    <tr>\n",
              "      <th>id_listing_anon</th>\n",
              "      <td>0</td>\n",
              "    </tr>\n",
              "    <tr>\n",
              "      <th>ts_interaction_first</th>\n",
              "      <td>0</td>\n",
              "    </tr>\n",
              "    <tr>\n",
              "      <th>ds_checkin_first</th>\n",
              "      <td>0</td>\n",
              "    </tr>\n",
              "    <tr>\n",
              "      <th>ds_checkout_first</th>\n",
              "      <td>0</td>\n",
              "    </tr>\n",
              "    <tr>\n",
              "      <th>m_interactions</th>\n",
              "      <td>0</td>\n",
              "    </tr>\n",
              "    <tr>\n",
              "      <th>m_first_message_length_in_characters</th>\n",
              "      <td>0</td>\n",
              "    </tr>\n",
              "    <tr>\n",
              "      <th>contact_channel_first</th>\n",
              "      <td>0</td>\n",
              "    </tr>\n",
              "    <tr>\n",
              "      <th>guest_user_stage_first</th>\n",
              "      <td>0</td>\n",
              "    </tr>\n",
              "  </tbody>\n",
              "</table>\n",
              "</div><br><label><b>dtype:</b> int64</label>"
            ]
          },
          "metadata": {},
          "execution_count": 81
        }
      ]
    },
    {
      "cell_type": "code",
      "source": [
        "print(contacts.describe())"
      ],
      "metadata": {
        "id": "vOVGvqOAlN_K",
        "outputId": "7914e46a-9915-4d14-80a8-557b8c0d9995",
        "colab": {
          "base_uri": "https://localhost:8080/"
        }
      },
      "id": "vOVGvqOAlN_K",
      "execution_count": 82,
      "outputs": [
        {
          "output_type": "stream",
          "name": "stdout",
          "text": [
            "           m_guests  m_interactions  m_first_message_length_in_characters\n",
            "count  27886.000000    27887.000000                          27887.000000\n",
            "mean       2.782041        8.255818                            193.712626\n",
            "std        1.863797       10.035784                            183.172132\n",
            "min        0.000000        1.000000                              0.000000\n",
            "25%        2.000000        3.000000                             66.000000\n",
            "50%        2.000000        5.000000                            154.000000\n",
            "75%        4.000000       10.000000                            269.000000\n",
            "max       16.000000      410.000000                           2341.000000\n"
          ]
        }
      ]
    },
    {
      "cell_type": "code",
      "source": [
        "users = pd.read_csv('users.csv')\n",
        "print(users.head())"
      ],
      "metadata": {
        "id": "7d6TlM3-79E5",
        "outputId": "ab9c81b4-bd55-45a4-b20c-0af98cdb3c74",
        "colab": {
          "base_uri": "https://localhost:8080/"
        }
      },
      "id": "7d6TlM3-79E5",
      "execution_count": 83,
      "outputs": [
        {
          "output_type": "stream",
          "name": "stdout",
          "text": [
            "                           id_user_anon country  words_in_user_profile\n",
            "0  1d16a001-31a2-494c-a101-1f7b308adc62      FR                      0\n",
            "1  42607e0a-86c0-472e-b633-9e192114e93c      AR                      0\n",
            "2  25f85eb5-a700-44e1-b142-4c076222198d      BR                      0\n",
            "3  55abeba0-18ef-4c58-80f4-3c278b706aca      BR                      1\n",
            "4  5d62d35a-7d6d-45dd-ae9b-a5d2f82a7d7b      BR                     98\n"
          ]
        }
      ]
    },
    {
      "cell_type": "code",
      "source": [
        "listings = pd.read_csv('listings.csv')\n",
        "print(listings.head())"
      ],
      "metadata": {
        "id": "kdyo2WmV76XQ",
        "outputId": "bd2b2ffd-a900-43fd-f8d0-4a8f1885e33f",
        "colab": {
          "base_uri": "https://localhost:8080/"
        }
      },
      "id": "kdyo2WmV76XQ",
      "execution_count": 84,
      "outputs": [
        {
          "output_type": "stream",
          "name": "stdout",
          "text": [
            "                        id_listing_anon        room_type listing_neighborhood  \\\n",
            "0  71582793-e5f8-46d7-afdf-7a31d2341c79     Private room            -unknown-   \n",
            "1  a1a3f728-e21f-4432-96aa-361d28e2b319  Entire home/apt           Copacabana   \n",
            "2  353a68be-ecf9-4b7b-9533-c882dc2f0760  Entire home/apt      Barra da Tijuca   \n",
            "3  b9ae1908-0486-40ac-bbcf-bd63ffebfe63  Entire home/apt                 Lapa   \n",
            "4  fa0290ef-7881-4482-8981-8ebb1ce5dbfd  Entire home/apt            -unknown-   \n",
            "\n",
            "   total_reviews  \n",
            "0            0.0  \n",
            "1            0.0  \n",
            "2            3.0  \n",
            "3            4.0  \n",
            "4            0.0  \n"
          ]
        }
      ]
    },
    {
      "cell_type": "code",
      "source": [
        "data = contacts.merge(\n",
        "    users,\n",
        "    left_on='id_guest_anon',\n",
        "    right_on='id_user_anon',\n",
        "    how='left',  # or 'inner' if you want only matched rows\n",
        "    suffixes=('', '_user')  # To avoid name clashes\n",
        ")\n",
        "data = data.merge(listings, on='id_listing_anon', how='left')\n",
        "print(data.head())"
      ],
      "metadata": {
        "id": "N-AF4c87_Z0i",
        "outputId": "6ab7327d-9758-4cde-e9c4-3cc9a9b0b88e",
        "colab": {
          "base_uri": "https://localhost:8080/"
        }
      },
      "id": "N-AF4c87_Z0i",
      "execution_count": 85,
      "outputs": [
        {
          "output_type": "stream",
          "name": "stdout",
          "text": [
            "                          id_guest_anon                          id_host_anon  \\\n",
            "0  da8656a1-51af-4f38-b1c4-94be1f585157  5426897d-960d-4013-9e38-606ae746793c   \n",
            "1  8590d6f1-8bc9-4e8b-bdfb-de78f69fcf37  f30417c5-6df4-45ac-bfc2-6ad1cce398ab   \n",
            "2  ebcd83ba-bda1-47eb-9680-2dd04ccf3988  13cbf50a-3272-45d4-9866-a06b6ea1b99a   \n",
            "3  b0af8848-fe2a-4ef1-991e-26ab3066feb3  01614601-d5a4-4776-ab9b-c10d3b865bf0   \n",
            "4  5ddbbcc3-ac1a-4d8a-b6f8-0f675b76d1b2  f2fed6f3-4c5c-453d-9e64-37c62b8bd06d   \n",
            "\n",
            "                        id_listing_anon   ts_interaction_first  \\\n",
            "0  a408a8b2-0d44-4513-a611-3736d0409bb2    2016-04-21 02:55:53   \n",
            "1  e387c705-0aeb-464c-9375-ece63be6f006    2016-02-16 22:14:01   \n",
            "2  d1eb1960-938f-4305-a353-51e224414dd4    2016-01-27 23:33:38   \n",
            "3  855f6779-346c-45fc-a64b-ea133250ca7a    2016-05-05 14:42:52   \n",
            "4  f2928a59-c5e7-42b2-9c37-240a40f38dc0  2016-06-23 03:09:25.0   \n",
            "\n",
            "       ts_reply_at_first   ts_accepted_at_first          ts_booking_at  \\\n",
            "0  2016-04-21 03:15:00.0  2016-04-21 03:15:00.0  2016-04-21 03:15:00.0   \n",
            "1  2016-02-16 23:37:36.0                    NaN                    NaN   \n",
            "2  2016-01-28 02:12:47.0                    NaN                    NaN   \n",
            "3  2016-05-05 15:17:40.0  2016-05-05 15:17:40.0                    NaN   \n",
            "4  2016-06-23 03:09:26.0  2016-06-23 03:09:33.0  2016-06-23 03:09:33.0   \n",
            "\n",
            "  ds_checkin_first ds_checkout_first  m_guests  m_interactions  \\\n",
            "0       2016-08-02        2016-08-06       4.0              30   \n",
            "1       2016-08-11        2016-08-22       5.0               2   \n",
            "2       2016-03-14        2016-03-23       1.0               3   \n",
            "3       2016-05-27        2016-05-29       2.0               3   \n",
            "4       2016-08-19        2016-08-21       3.0              25   \n",
            "\n",
            "   m_first_message_length_in_characters contact_channel_first  \\\n",
            "0                                  31.0               book_it   \n",
            "1                                 312.0            contact_me   \n",
            "2                                 164.0            contact_me   \n",
            "3                                 203.0            contact_me   \n",
            "4                                   0.0          instant_book   \n",
            "\n",
            "  guest_user_stage_first                          id_user_anon country  \\\n",
            "0            past_booker  da8656a1-51af-4f38-b1c4-94be1f585157      CL   \n",
            "1            past_booker  8590d6f1-8bc9-4e8b-bdfb-de78f69fcf37      FR   \n",
            "2                    new  ebcd83ba-bda1-47eb-9680-2dd04ccf3988      AR   \n",
            "3                    new  b0af8848-fe2a-4ef1-991e-26ab3066feb3      BR   \n",
            "4            past_booker  5ddbbcc3-ac1a-4d8a-b6f8-0f675b76d1b2      BR   \n",
            "\n",
            "   words_in_user_profile        room_type listing_neighborhood  total_reviews  \n",
            "0                      0  Entire home/apt           Copacabana            9.0  \n",
            "1                      0  Entire home/apt           Copacabana            0.0  \n",
            "2                      0     Private room              Vidigal           49.0  \n",
            "3                      0  Entire home/apt           Copacabana           17.0  \n",
            "4                      1  Entire home/apt              Ipanema            1.0  \n"
          ]
        }
      ]
    },
    {
      "cell_type": "code",
      "source": [
        "print(data.describe())"
      ],
      "metadata": {
        "id": "FAQKMFn4Hen5",
        "outputId": "50c9d0e6-9a2a-4d61-e2a1-228fbacc1665",
        "colab": {
          "base_uri": "https://localhost:8080/"
        }
      },
      "id": "FAQKMFn4Hen5",
      "execution_count": 87,
      "outputs": [
        {
          "output_type": "stream",
          "name": "stdout",
          "text": [
            "           m_guests  m_interactions  m_first_message_length_in_characters  \\\n",
            "count  27978.000000    27979.000000                          27979.000000   \n",
            "mean       2.782436        8.247686                            193.743879   \n",
            "std        1.866441       10.025091                            183.169421   \n",
            "min        0.000000        1.000000                              0.000000   \n",
            "25%        2.000000        3.000000                             66.000000   \n",
            "50%        2.000000        5.000000                            154.000000   \n",
            "75%        4.000000       10.000000                            269.000000   \n",
            "max       16.000000      410.000000                           2341.000000   \n",
            "\n",
            "       words_in_user_profile  total_reviews  \n",
            "count           27979.000000   27979.000000  \n",
            "mean               10.202402      15.639944  \n",
            "std                30.846777      27.728108  \n",
            "min                 0.000000     -34.000000  \n",
            "25%                 0.000000       0.000000  \n",
            "50%                 0.000000       3.000000  \n",
            "75%                 1.000000      18.000000  \n",
            "max               658.000000     268.000000  \n"
          ]
        }
      ]
    },
    {
      "cell_type": "code",
      "source": [
        "data = data.where(data['ds_checkin_first'] < data['ds_checkout_first'])\n",
        "data = data.where(\n",
        "    ~(\n",
        "        data['id_guest_anon'].isna() |\n",
        "        data['id_listing_anon'].isna() |\n",
        "        data['id_host_anon'].isna()\n",
        "    )\n",
        ")\n",
        "datetime_cols = [\n",
        "    'ts_interaction_first', 'ts_reply_at_first',\n",
        "    'ts_accepted_at_first', 'ts_booking_at',\n",
        "    'ds_checkin_first', 'ds_checkout_first'\n",
        "]\n",
        "\n",
        "for col in datetime_cols:\n",
        "    data[col] = pd.to_datetime(data[col], errors='coerce')\n",
        "\n",
        "print(data.head())"
      ],
      "metadata": {
        "id": "XLRTEpcIDz3H"
      },
      "id": "XLRTEpcIDz3H",
      "execution_count": null,
      "outputs": []
    },
    {
      "cell_type": "code",
      "source": [
        "#feature enginearing contacts\n",
        "data['response_time'] = (\n",
        "    data['ts_reply_at_first'] - data['ts_interaction_first']\n",
        ").dt.total_seconds()\n",
        "data['was_booked'] = data['ts_booking_at'].notna().astype(int)\n",
        "data['stay_length'] = (\n",
        "    data['ds_checkout_first'] - data['ds_checkin_first']\n",
        ").dt.days\n",
        "data['booking_lag'] = (\n",
        "    data['ds_checkin_first'] - data['ts_booking_at']\n",
        ").dt.days\n",
        "\n",
        "features_drop = [\n",
        "    'ts_interaction_first', 'ts_reply_at_first',\n",
        "    'ts_accepted_at_first', 'ts_booking_at',\n",
        "    'ds_checkin_first', 'ds_checkout_first'\n",
        "]\n",
        "data[['m_interactions', 'm_first_message_length_in_characters']].plot(kind='box')\n"
      ],
      "metadata": {
        "id": "71X0V_qNDKkP",
        "outputId": "27432402-9f2e-4c7f-f47b-fad9984b5f69",
        "colab": {
          "base_uri": "https://localhost:8080/",
          "height": 321
        }
      },
      "id": "71X0V_qNDKkP",
      "execution_count": 80,
      "outputs": [
        {
          "output_type": "error",
          "ename": "KeyError",
          "evalue": "\"['m_first_message_length_in_characters'] not in index\"",
          "traceback": [
            "\u001b[0;31m---------------------------------------------------------------------------\u001b[0m",
            "\u001b[0;31mKeyError\u001b[0m                                  Traceback (most recent call last)",
            "\u001b[0;32m/tmp/ipython-input-80-2259839887.py\u001b[0m in \u001b[0;36m<cell line: 0>\u001b[0;34m()\u001b[0m\n\u001b[1;32m     16\u001b[0m     \u001b[0;34m'ds_checkin_first'\u001b[0m\u001b[0;34m,\u001b[0m \u001b[0;34m'ds_checkout_first'\u001b[0m\u001b[0;34m\u001b[0m\u001b[0;34m\u001b[0m\u001b[0m\n\u001b[1;32m     17\u001b[0m ]\n\u001b[0;32m---> 18\u001b[0;31m \u001b[0mdata\u001b[0m\u001b[0;34m[\u001b[0m\u001b[0;34m[\u001b[0m\u001b[0;34m'm_interactions'\u001b[0m\u001b[0;34m,\u001b[0m \u001b[0;34m'm_first_message_length_in_characters'\u001b[0m\u001b[0;34m]\u001b[0m\u001b[0;34m]\u001b[0m\u001b[0;34m.\u001b[0m\u001b[0mplot\u001b[0m\u001b[0;34m(\u001b[0m\u001b[0mkind\u001b[0m\u001b[0;34m=\u001b[0m\u001b[0;34m'box'\u001b[0m\u001b[0;34m)\u001b[0m\u001b[0;34m\u001b[0m\u001b[0;34m\u001b[0m\u001b[0m\n\u001b[0m",
            "\u001b[0;32m/usr/local/lib/python3.11/dist-packages/pandas/core/frame.py\u001b[0m in \u001b[0;36m__getitem__\u001b[0;34m(self, key)\u001b[0m\n\u001b[1;32m   4106\u001b[0m             \u001b[0;32mif\u001b[0m \u001b[0mis_iterator\u001b[0m\u001b[0;34m(\u001b[0m\u001b[0mkey\u001b[0m\u001b[0;34m)\u001b[0m\u001b[0;34m:\u001b[0m\u001b[0;34m\u001b[0m\u001b[0;34m\u001b[0m\u001b[0m\n\u001b[1;32m   4107\u001b[0m                 \u001b[0mkey\u001b[0m \u001b[0;34m=\u001b[0m \u001b[0mlist\u001b[0m\u001b[0;34m(\u001b[0m\u001b[0mkey\u001b[0m\u001b[0;34m)\u001b[0m\u001b[0;34m\u001b[0m\u001b[0;34m\u001b[0m\u001b[0m\n\u001b[0;32m-> 4108\u001b[0;31m             \u001b[0mindexer\u001b[0m \u001b[0;34m=\u001b[0m \u001b[0mself\u001b[0m\u001b[0;34m.\u001b[0m\u001b[0mcolumns\u001b[0m\u001b[0;34m.\u001b[0m\u001b[0m_get_indexer_strict\u001b[0m\u001b[0;34m(\u001b[0m\u001b[0mkey\u001b[0m\u001b[0;34m,\u001b[0m \u001b[0;34m\"columns\"\u001b[0m\u001b[0;34m)\u001b[0m\u001b[0;34m[\u001b[0m\u001b[0;36m1\u001b[0m\u001b[0;34m]\u001b[0m\u001b[0;34m\u001b[0m\u001b[0;34m\u001b[0m\u001b[0m\n\u001b[0m\u001b[1;32m   4109\u001b[0m \u001b[0;34m\u001b[0m\u001b[0m\n\u001b[1;32m   4110\u001b[0m         \u001b[0;31m# take() does not accept boolean indexers\u001b[0m\u001b[0;34m\u001b[0m\u001b[0;34m\u001b[0m\u001b[0m\n",
            "\u001b[0;32m/usr/local/lib/python3.11/dist-packages/pandas/core/indexes/base.py\u001b[0m in \u001b[0;36m_get_indexer_strict\u001b[0;34m(self, key, axis_name)\u001b[0m\n\u001b[1;32m   6198\u001b[0m             \u001b[0mkeyarr\u001b[0m\u001b[0;34m,\u001b[0m \u001b[0mindexer\u001b[0m\u001b[0;34m,\u001b[0m \u001b[0mnew_indexer\u001b[0m \u001b[0;34m=\u001b[0m \u001b[0mself\u001b[0m\u001b[0;34m.\u001b[0m\u001b[0m_reindex_non_unique\u001b[0m\u001b[0;34m(\u001b[0m\u001b[0mkeyarr\u001b[0m\u001b[0;34m)\u001b[0m\u001b[0;34m\u001b[0m\u001b[0;34m\u001b[0m\u001b[0m\n\u001b[1;32m   6199\u001b[0m \u001b[0;34m\u001b[0m\u001b[0m\n\u001b[0;32m-> 6200\u001b[0;31m         \u001b[0mself\u001b[0m\u001b[0;34m.\u001b[0m\u001b[0m_raise_if_missing\u001b[0m\u001b[0;34m(\u001b[0m\u001b[0mkeyarr\u001b[0m\u001b[0;34m,\u001b[0m \u001b[0mindexer\u001b[0m\u001b[0;34m,\u001b[0m \u001b[0maxis_name\u001b[0m\u001b[0;34m)\u001b[0m\u001b[0;34m\u001b[0m\u001b[0;34m\u001b[0m\u001b[0m\n\u001b[0m\u001b[1;32m   6201\u001b[0m \u001b[0;34m\u001b[0m\u001b[0m\n\u001b[1;32m   6202\u001b[0m         \u001b[0mkeyarr\u001b[0m \u001b[0;34m=\u001b[0m \u001b[0mself\u001b[0m\u001b[0;34m.\u001b[0m\u001b[0mtake\u001b[0m\u001b[0;34m(\u001b[0m\u001b[0mindexer\u001b[0m\u001b[0;34m)\u001b[0m\u001b[0;34m\u001b[0m\u001b[0;34m\u001b[0m\u001b[0m\n",
            "\u001b[0;32m/usr/local/lib/python3.11/dist-packages/pandas/core/indexes/base.py\u001b[0m in \u001b[0;36m_raise_if_missing\u001b[0;34m(self, key, indexer, axis_name)\u001b[0m\n\u001b[1;32m   6250\u001b[0m \u001b[0;34m\u001b[0m\u001b[0m\n\u001b[1;32m   6251\u001b[0m             \u001b[0mnot_found\u001b[0m \u001b[0;34m=\u001b[0m \u001b[0mlist\u001b[0m\u001b[0;34m(\u001b[0m\u001b[0mensure_index\u001b[0m\u001b[0;34m(\u001b[0m\u001b[0mkey\u001b[0m\u001b[0;34m)\u001b[0m\u001b[0;34m[\u001b[0m\u001b[0mmissing_mask\u001b[0m\u001b[0;34m.\u001b[0m\u001b[0mnonzero\u001b[0m\u001b[0;34m(\u001b[0m\u001b[0;34m)\u001b[0m\u001b[0;34m[\u001b[0m\u001b[0;36m0\u001b[0m\u001b[0;34m]\u001b[0m\u001b[0;34m]\u001b[0m\u001b[0;34m.\u001b[0m\u001b[0munique\u001b[0m\u001b[0;34m(\u001b[0m\u001b[0;34m)\u001b[0m\u001b[0;34m)\u001b[0m\u001b[0;34m\u001b[0m\u001b[0;34m\u001b[0m\u001b[0m\n\u001b[0;32m-> 6252\u001b[0;31m             \u001b[0;32mraise\u001b[0m \u001b[0mKeyError\u001b[0m\u001b[0;34m(\u001b[0m\u001b[0;34mf\"{not_found} not in index\"\u001b[0m\u001b[0;34m)\u001b[0m\u001b[0;34m\u001b[0m\u001b[0;34m\u001b[0m\u001b[0m\n\u001b[0m\u001b[1;32m   6253\u001b[0m \u001b[0;34m\u001b[0m\u001b[0m\n\u001b[1;32m   6254\u001b[0m     \u001b[0;34m@\u001b[0m\u001b[0moverload\u001b[0m\u001b[0;34m\u001b[0m\u001b[0;34m\u001b[0m\u001b[0m\n",
            "\u001b[0;31mKeyError\u001b[0m: \"['m_first_message_length_in_characters'] not in index\""
          ]
        }
      ]
    },
    {
      "cell_type": "code",
      "source": [
        "data['m_interactions'] = data['m_interactions'].where(data['m_interactions'] < 38)\n",
        "data['m_first_message_length_in_characters'] = data['m_first_message_length_in_characters'].where(data['m_first_message_length_in_characters'] < 740)\n",
        "data[['m_interactions', 'm_first_message_length_in_characters']].plot(kind='box')\n",
        "data.rename(columns={'m_first_message_length_in_characters': 'message_len'}, inplace=True)\n"
      ],
      "metadata": {
        "id": "tbIr_NCkDatr",
        "outputId": "5f8f0601-91ea-4934-bd8b-7f56436e38ea",
        "colab": {
          "base_uri": "https://localhost:8080/",
          "height": 547
        }
      },
      "id": "tbIr_NCkDatr",
      "execution_count": 75,
      "outputs": [
        {
          "output_type": "error",
          "ename": "KeyError",
          "evalue": "'m_first_message_length_in_characters'",
          "traceback": [
            "\u001b[0;31m---------------------------------------------------------------------------\u001b[0m",
            "\u001b[0;31mKeyError\u001b[0m                                  Traceback (most recent call last)",
            "\u001b[0;32m/usr/local/lib/python3.11/dist-packages/pandas/core/indexes/base.py\u001b[0m in \u001b[0;36mget_loc\u001b[0;34m(self, key)\u001b[0m\n\u001b[1;32m   3804\u001b[0m         \u001b[0;32mtry\u001b[0m\u001b[0;34m:\u001b[0m\u001b[0;34m\u001b[0m\u001b[0;34m\u001b[0m\u001b[0m\n\u001b[0;32m-> 3805\u001b[0;31m             \u001b[0;32mreturn\u001b[0m \u001b[0mself\u001b[0m\u001b[0;34m.\u001b[0m\u001b[0m_engine\u001b[0m\u001b[0;34m.\u001b[0m\u001b[0mget_loc\u001b[0m\u001b[0;34m(\u001b[0m\u001b[0mcasted_key\u001b[0m\u001b[0;34m)\u001b[0m\u001b[0;34m\u001b[0m\u001b[0;34m\u001b[0m\u001b[0m\n\u001b[0m\u001b[1;32m   3806\u001b[0m         \u001b[0;32mexcept\u001b[0m \u001b[0mKeyError\u001b[0m \u001b[0;32mas\u001b[0m \u001b[0merr\u001b[0m\u001b[0;34m:\u001b[0m\u001b[0;34m\u001b[0m\u001b[0;34m\u001b[0m\u001b[0m\n",
            "\u001b[0;32mindex.pyx\u001b[0m in \u001b[0;36mpandas._libs.index.IndexEngine.get_loc\u001b[0;34m()\u001b[0m\n",
            "\u001b[0;32mindex.pyx\u001b[0m in \u001b[0;36mpandas._libs.index.IndexEngine.get_loc\u001b[0;34m()\u001b[0m\n",
            "\u001b[0;32mpandas/_libs/hashtable_class_helper.pxi\u001b[0m in \u001b[0;36mpandas._libs.hashtable.PyObjectHashTable.get_item\u001b[0;34m()\u001b[0m\n",
            "\u001b[0;32mpandas/_libs/hashtable_class_helper.pxi\u001b[0m in \u001b[0;36mpandas._libs.hashtable.PyObjectHashTable.get_item\u001b[0;34m()\u001b[0m\n",
            "\u001b[0;31mKeyError\u001b[0m: 'm_first_message_length_in_characters'",
            "\nThe above exception was the direct cause of the following exception:\n",
            "\u001b[0;31mKeyError\u001b[0m                                  Traceback (most recent call last)",
            "\u001b[0;32m/tmp/ipython-input-75-3401168791.py\u001b[0m in \u001b[0;36m<cell line: 0>\u001b[0;34m()\u001b[0m\n\u001b[1;32m      1\u001b[0m \u001b[0mdata\u001b[0m\u001b[0;34m[\u001b[0m\u001b[0;34m'm_interactions'\u001b[0m\u001b[0;34m]\u001b[0m \u001b[0;34m=\u001b[0m \u001b[0mdata\u001b[0m\u001b[0;34m[\u001b[0m\u001b[0;34m'm_interactions'\u001b[0m\u001b[0;34m]\u001b[0m\u001b[0;34m.\u001b[0m\u001b[0mwhere\u001b[0m\u001b[0;34m(\u001b[0m\u001b[0mdata\u001b[0m\u001b[0;34m[\u001b[0m\u001b[0;34m'm_interactions'\u001b[0m\u001b[0;34m]\u001b[0m \u001b[0;34m<\u001b[0m \u001b[0;36m38\u001b[0m\u001b[0;34m)\u001b[0m\u001b[0;34m\u001b[0m\u001b[0;34m\u001b[0m\u001b[0m\n\u001b[0;32m----> 2\u001b[0;31m \u001b[0mdata\u001b[0m\u001b[0;34m[\u001b[0m\u001b[0;34m'm_first_message_length_in_characters'\u001b[0m\u001b[0;34m]\u001b[0m \u001b[0;34m=\u001b[0m \u001b[0mdata\u001b[0m\u001b[0;34m[\u001b[0m\u001b[0;34m'm_first_message_length_in_characters'\u001b[0m\u001b[0;34m]\u001b[0m\u001b[0;34m.\u001b[0m\u001b[0mwhere\u001b[0m\u001b[0;34m(\u001b[0m\u001b[0mdata\u001b[0m\u001b[0;34m[\u001b[0m\u001b[0;34m'm_first_message_length_in_characters'\u001b[0m\u001b[0;34m]\u001b[0m \u001b[0;34m<\u001b[0m \u001b[0;36m740\u001b[0m\u001b[0;34m)\u001b[0m\u001b[0;34m\u001b[0m\u001b[0;34m\u001b[0m\u001b[0m\n\u001b[0m\u001b[1;32m      3\u001b[0m \u001b[0mdata\u001b[0m\u001b[0;34m[\u001b[0m\u001b[0;34m[\u001b[0m\u001b[0;34m'm_interactions'\u001b[0m\u001b[0;34m,\u001b[0m \u001b[0;34m'm_first_message_length_in_characters'\u001b[0m\u001b[0;34m]\u001b[0m\u001b[0;34m]\u001b[0m\u001b[0;34m.\u001b[0m\u001b[0mplot\u001b[0m\u001b[0;34m(\u001b[0m\u001b[0mkind\u001b[0m\u001b[0;34m=\u001b[0m\u001b[0;34m'box'\u001b[0m\u001b[0;34m)\u001b[0m\u001b[0;34m\u001b[0m\u001b[0;34m\u001b[0m\u001b[0m\n\u001b[1;32m      4\u001b[0m \u001b[0mdata\u001b[0m\u001b[0;34m.\u001b[0m\u001b[0mrename\u001b[0m\u001b[0;34m(\u001b[0m\u001b[0mcolumns\u001b[0m\u001b[0;34m=\u001b[0m\u001b[0;34m{\u001b[0m\u001b[0;34m'm_first_message_length_in_characters'\u001b[0m\u001b[0;34m:\u001b[0m \u001b[0;34m'message_len'\u001b[0m\u001b[0;34m}\u001b[0m\u001b[0;34m,\u001b[0m \u001b[0minplace\u001b[0m\u001b[0;34m=\u001b[0m\u001b[0;32mTrue\u001b[0m\u001b[0;34m)\u001b[0m\u001b[0;34m\u001b[0m\u001b[0;34m\u001b[0m\u001b[0m\n",
            "\u001b[0;32m/usr/local/lib/python3.11/dist-packages/pandas/core/frame.py\u001b[0m in \u001b[0;36m__getitem__\u001b[0;34m(self, key)\u001b[0m\n\u001b[1;32m   4100\u001b[0m             \u001b[0;32mif\u001b[0m \u001b[0mself\u001b[0m\u001b[0;34m.\u001b[0m\u001b[0mcolumns\u001b[0m\u001b[0;34m.\u001b[0m\u001b[0mnlevels\u001b[0m \u001b[0;34m>\u001b[0m \u001b[0;36m1\u001b[0m\u001b[0;34m:\u001b[0m\u001b[0;34m\u001b[0m\u001b[0;34m\u001b[0m\u001b[0m\n\u001b[1;32m   4101\u001b[0m                 \u001b[0;32mreturn\u001b[0m \u001b[0mself\u001b[0m\u001b[0;34m.\u001b[0m\u001b[0m_getitem_multilevel\u001b[0m\u001b[0;34m(\u001b[0m\u001b[0mkey\u001b[0m\u001b[0;34m)\u001b[0m\u001b[0;34m\u001b[0m\u001b[0;34m\u001b[0m\u001b[0m\n\u001b[0;32m-> 4102\u001b[0;31m             \u001b[0mindexer\u001b[0m \u001b[0;34m=\u001b[0m \u001b[0mself\u001b[0m\u001b[0;34m.\u001b[0m\u001b[0mcolumns\u001b[0m\u001b[0;34m.\u001b[0m\u001b[0mget_loc\u001b[0m\u001b[0;34m(\u001b[0m\u001b[0mkey\u001b[0m\u001b[0;34m)\u001b[0m\u001b[0;34m\u001b[0m\u001b[0;34m\u001b[0m\u001b[0m\n\u001b[0m\u001b[1;32m   4103\u001b[0m             \u001b[0;32mif\u001b[0m \u001b[0mis_integer\u001b[0m\u001b[0;34m(\u001b[0m\u001b[0mindexer\u001b[0m\u001b[0;34m)\u001b[0m\u001b[0;34m:\u001b[0m\u001b[0;34m\u001b[0m\u001b[0;34m\u001b[0m\u001b[0m\n\u001b[1;32m   4104\u001b[0m                 \u001b[0mindexer\u001b[0m \u001b[0;34m=\u001b[0m \u001b[0;34m[\u001b[0m\u001b[0mindexer\u001b[0m\u001b[0;34m]\u001b[0m\u001b[0;34m\u001b[0m\u001b[0;34m\u001b[0m\u001b[0m\n",
            "\u001b[0;32m/usr/local/lib/python3.11/dist-packages/pandas/core/indexes/base.py\u001b[0m in \u001b[0;36mget_loc\u001b[0;34m(self, key)\u001b[0m\n\u001b[1;32m   3810\u001b[0m             ):\n\u001b[1;32m   3811\u001b[0m                 \u001b[0;32mraise\u001b[0m \u001b[0mInvalidIndexError\u001b[0m\u001b[0;34m(\u001b[0m\u001b[0mkey\u001b[0m\u001b[0;34m)\u001b[0m\u001b[0;34m\u001b[0m\u001b[0;34m\u001b[0m\u001b[0m\n\u001b[0;32m-> 3812\u001b[0;31m             \u001b[0;32mraise\u001b[0m \u001b[0mKeyError\u001b[0m\u001b[0;34m(\u001b[0m\u001b[0mkey\u001b[0m\u001b[0;34m)\u001b[0m \u001b[0;32mfrom\u001b[0m \u001b[0merr\u001b[0m\u001b[0;34m\u001b[0m\u001b[0;34m\u001b[0m\u001b[0m\n\u001b[0m\u001b[1;32m   3813\u001b[0m         \u001b[0;32mexcept\u001b[0m \u001b[0mTypeError\u001b[0m\u001b[0;34m:\u001b[0m\u001b[0;34m\u001b[0m\u001b[0;34m\u001b[0m\u001b[0m\n\u001b[1;32m   3814\u001b[0m             \u001b[0;31m# If we have a listlike key, _check_indexing_error will raise\u001b[0m\u001b[0;34m\u001b[0m\u001b[0;34m\u001b[0m\u001b[0m\n",
            "\u001b[0;31mKeyError\u001b[0m: 'm_first_message_length_in_characters'"
          ]
        }
      ]
    }
  ],
  "metadata": {
    "kernelspec": {
      "display_name": "Python 3 (ipykernel)",
      "language": "python",
      "name": "python3"
    },
    "language_info": {
      "codemirror_mode": {
        "name": "ipython",
        "version": 3
      },
      "file_extension": ".py",
      "mimetype": "text/x-python",
      "name": "python",
      "nbconvert_exporter": "python",
      "pygments_lexer": "ipython3",
      "version": "3.10.5"
    },
    "colab": {
      "provenance": []
    }
  },
  "nbformat": 4,
  "nbformat_minor": 5
}